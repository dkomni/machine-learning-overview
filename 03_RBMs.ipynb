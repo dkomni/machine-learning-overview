{
 "cells": [
  {
   "cell_type": "markdown",
   "id": "9c1ad2ae",
   "metadata": {},
   "source": [
    "# Restricted Boltzmann Machines\n",
    "\n",
    "For a detailed presentation, refer to the section '**1.4 Boltzmann Machines**' in the file *MachineLearningOverview.pdf*, which is included in the same repository as this notebook.\n",
    "\n",
    "A restricted Boltzmann machine (RBM) is a generative stochastic artificial neural network that can be used for unsupervised learning tasks, such as dimensionality reduction, feature learning, collaborative filtering and topic modeling. RBMs are particularly useful for modeling complex distributions of high-dimensional data, such as images, speech signals, and genomic data and have been successfully applied in a wide range of fields, including computer vision, speech recognition, natural language processing and bioinformatics. RBMs are also used as building blocks for more complex deep learning models, such as deep belief networks and deep autoencoders, which are used for tasks like image and text generation and anomaly detection. They can extract features of some dataset and the output can be used in a supervised model like linear regression or support vector machines for classification."
   ]
  },
  {
   "cell_type": "markdown",
   "id": "fd9c3c4c",
   "metadata": {},
   "source": [
    "A RBM with 3 visible units and 7 hidden units is presented below:\n",
    "\n",
    "<img src=\"./images/rbm.drawio.png\" width=\"60%\" align=\"center\">"
   ]
  },
  {
   "cell_type": "markdown",
   "id": "8a88f847",
   "metadata": {},
   "source": [
    "We will use the *Fashion-MNIST dataset* in order to train a RBM to generate synthetic data that resembles the samples of this dataset. The Fashion-MNIST dataset is a benchmark dataset commonly used in the field of computer vision for image classification tasks. It was created as a more challenging alternative to the popular MNIST dataset, which consists of grayscale images of handwritten digits. It consists of 70,000 grayscale images of size 28x28 pixels, which are divided into 60,000 training images and 10,000 testing images. Each image in the dataset belongs to one of 10 different classes representing different types of clothing and accessories, including T-shirts/tops, trousers, pullovers, dresses, coats, sandals, shirts, sneakers, bags and ankle boots."
   ]
  },
  {
   "cell_type": "markdown",
   "id": "f059845b",
   "metadata": {},
   "source": [
    "**Remark**: The code was kindly provided by my friend Antonios Kastellakis who implemeted this in the context of his thesis, where he trained an RBM to generate synthetic data of the MNIST dataset of hand-written digits. You can find his thesis *'Analog and Digital Quantum Neural Networks: Basic Concepts and Applications'* at http://dimitrisangelakis.org/theses/"
   ]
  },
  {
   "cell_type": "markdown",
   "id": "9686f798",
   "metadata": {},
   "source": [
    "First, let us import the necessary packages and load the Fashion-MNIST dataset."
   ]
  },
  {
   "cell_type": "code",
   "execution_count": 1,
   "id": "0cd09e47",
   "metadata": {},
   "outputs": [
    {
     "name": "stdout",
     "output_type": "stream",
     "text": [
      "Training data shape: (60000, 28, 28) (60000,)\n",
      "Testing data shape: (10000, 28, 28) (10000,)\n"
     ]
    }
   ],
   "source": [
    "# hide tensorflow warnings on GPU execution (we will use CPU)\n",
    "from silence_tensorflow import silence_tensorflow\n",
    "silence_tensorflow()\n",
    "\n",
    "from tensorflow import keras\n",
    "from keras.datasets import fashion_mnist\n",
    "from matplotlib import pyplot as plt\n",
    "import numpy as np\n",
    "import time\n",
    "\n",
    "# Load the Fashion-MNIST dataset\n",
    "(x_train, y_train), (x_test, y_test) = fashion_mnist.load_data()\n",
    "\n",
    "x_train = x_train.astype('float32')\n",
    "x_test = x_test.astype('float32')\n",
    "\n",
    "# Print the shape of the training data\n",
    "print('Training data shape:', x_train.shape, y_train.shape)\n",
    "\n",
    "# Print the shape of the testing data\n",
    "print('Testing data shape:', x_test.shape, y_test.shape)"
   ]
  },
  {
   "cell_type": "markdown",
   "id": "62531fec",
   "metadata": {},
   "source": [
    "Let us display some random samples from the dataset:"
   ]
  },
  {
   "cell_type": "code",
   "execution_count": 2,
   "id": "50ca8399",
   "metadata": {},
   "outputs": [
    {
     "data": {
      "image/png": "[encoded data removed]",
      "text/plain": [
       "<Figure size 1000x1000 with 5 Axes>"
      ]
     },
     "metadata": {},
     "output_type": "display_data"
    }
   ],
   "source": [
    "# Define the class labels\n",
    "class_labels = ['T-shirt/top', 'Trouser', 'Pullover', 'Dress', 'Coat',\n",
    "                'Sandal', 'Shirt', 'Sneaker', 'Bag', 'Ankle boot']\n",
    "\n",
    "# Generate a random sample of images to display\n",
    "num_images = 5\n",
    "rand_idx = np.random.randint(x_train.shape[0], size=num_images)\n",
    "\n",
    "# Display the images and their labels\n",
    "fig, axes = plt.subplots(1, num_images, figsize=(10,10))\n",
    "for i, ax in enumerate(axes):\n",
    "    ax.imshow(x_train[rand_idx[i]], cmap='gray')\n",
    "    ax.set_title(class_labels[y_train[rand_idx[i]]])\n",
    "    ax.axis('off')\n",
    "\n",
    "plt.show()"
   ]
  },
  {
   "cell_type": "markdown",
   "id": "3bda7fc0",
   "metadata": {},
   "source": [
    "Then, we reshape the data into arrays and move to normalization (pre-processing) and definition of the RBM hyperparameters."
   ]
  },
  {
   "cell_type": "code",
   "execution_count": 3,
   "id": "3a1dfc0c",
   "metadata": {},
   "outputs": [
    {
     "name": "stdout",
     "output_type": "stream",
     "text": [
      "Reshaped training data shape: (60000, 784)\n",
      "Reshaped testing data shape: (10000, 784)\n"
     ]
    }
   ],
   "source": [
    "training_data = np.reshape(x_train, (x_train.shape[0], x_train.shape[1]*x_train.shape[2]))\n",
    "test_data = np.reshape(x_test, (x_test.shape[0], x_test.shape[1]*x_test.shape[2]))\n",
    "\n",
    "# Print the shape of the reshaped training data\n",
    "print('Reshaped training data shape:', training_data.shape)\n",
    "\n",
    "# Print the shape of the reshaped testing data\n",
    "print('Reshaped testing data shape:', test_data.shape)"
   ]
  },
  {
   "cell_type": "code",
   "execution_count": 4,
   "id": "cfbb5fd6",
   "metadata": {},
   "outputs": [],
   "source": [
    "# normalize\n",
    "threshold = 128\n",
    "training_data = (training_data > np.ones(training_data.shape)*threshold)*1\n",
    "test_data = (test_data > np.ones(test_data.shape)*threshold)*1\n",
    "\n",
    "# define model hyperparameters\n",
    "num_visible = training_data.shape[1]  # number of visible units corresponds to number of features\n",
    "num_hidden = 200  # number of hidden units is set to 100 (sufficient)\n",
    "\n",
    "# define training parameters\n",
    "epochs = 50\n",
    "# for datasets containing small number of equiprobable classes, \n",
    "# the ideal mini-batch size for contrastive divergence equals to the number of classes\n",
    "batch_size = 10\n",
    "# learning rate (adaptive with respect to the number of batch size)\n",
    "eta = 0.1/batch_size"
   ]
  },
  {
   "cell_type": "markdown",
   "id": "0d9baadc",
   "metadata": {},
   "source": [
    "Now, we define the RBM class that implements the model that we will train:"
   ]
  },
  {
   "cell_type": "code",
   "execution_count": 5,
   "id": "7c3b832b",
   "metadata": {},
   "outputs": [],
   "source": [
    "class RBM(object):\n",
    "    # class constructor\n",
    "    def __init__(self, num_visible, num_hidden):\n",
    "        self.num_visible = num_visible\n",
    "        self.num_hidden = num_hidden\n",
    "        # initialize randomly the biases with a Gaussian of mean 0 and standard deviation 1\n",
    "        self.a = np.random.normal(loc=0, scale=1, size=(1, num_visible))\n",
    "        self.b = np.random.normal(loc=0, scale=1, size=(1, num_hidden))\n",
    "        # initialize the weight matrix with a Gaussian of mean 0 and standard deviation 0.01\n",
    "        self.weights = np.random.normal(loc=0, scale=0.01, size=(num_visible, num_hidden))\n",
    "        # the following parameters are used to implement momentum in training as Hinton suggests\n",
    "        self.w_inc = np.zeros(self.weights.shape)\n",
    "        self.a_inc = np.zeros(self.a.shape)\n",
    "        self.b_inc = np.zeros(self.b.shape)\n",
    "        \n",
    "    # training process\n",
    "    def train_RBM(self, training_data, epochs, mini_batch_size, eta):\n",
    "        # the goal for our model is to generate synthetic data\n",
    "        # the model is trained using the Contrastive Divergence algorithm by Hinton\n",
    "        \n",
    "        for epoch in range(epochs):\n",
    "            # shuffle the training data and partition it into mini-batches\n",
    "            error = 0\n",
    "            training_data_size = len(training_data)\n",
    "            mini_batches = [training_data[k:k+mini_batch_size] for k in range(0,training_data_size,mini_batch_size)]\n",
    "            for batch in mini_batches:\n",
    "                err = self.Contrastive_Divergence(batch, mini_batch_size, epoch, eta)\n",
    "                error += err\n",
    "                \n",
    "            print('Epoch %s completed. Reconstruction error is %0.2f' % (epoch+1, error))\n",
    "        \n",
    "        avg_error = error/training_data_size\n",
    "        print('\\nTraining completed. Average reconstruction error is %0.2f' % avg_error)\n",
    "        \n",
    "    # Contrastive divergence (mini-batch) algorithm\n",
    "    def Contrastive_Divergence(self, v0, mini_batch_size, epoch, eta):\n",
    "        \n",
    "        ## positive phase of contrastive divergence (data driven phase)\n",
    "        z_h0 = np.dot(v0, self.weights) + np.tile(self.b, (v0.shape[0],1))\n",
    "        prob_h0 = self.sigmoid(z_h0)\n",
    "        \n",
    "        # sample the states of hidden units based on prob_h0\n",
    "        h0 = prob_h0 > np.random.rand(v0.shape[0], self.num_hidden)\n",
    "        \n",
    "        # positive phase product for updating the weights\n",
    "        # using probability instead of the sampled hidden states usually has less sampling noise --> faster learning\n",
    "        vihj_data = np.dot(v0.T, prob_h0)\n",
    "        \n",
    "        # values needed to update the biases\n",
    "        vi_data = np.sum(v0, axis=0)\n",
    "        hj_data = np.sum(prob_h0, axis=0)\n",
    "        \n",
    "        ## negative phase of contrastive divergence (reconstruction driven phase)\n",
    "        # reconstruct the visible states from hidden states\n",
    "        z_v1 = np.dot(h0, self.weights.T) + np.tile(self.a, (h0.shape[0],1))\n",
    "        v1 = self.sigmoid(z_v1)\n",
    "        \n",
    "        # sample the hidden states from the visible states\n",
    "        z_h1 = np.dot(v1, self.weights) + np.tile(self.b, (v1.shape[0],1))\n",
    "        prob_h1 = self.sigmoid(z_h1)\n",
    "        \n",
    "        # negative phase products for updating the weights\n",
    "        vihj_model = np.dot(v1.T, prob_h1)\n",
    "        \n",
    "        # values needed to update the biases\n",
    "        vi_model = np.sum(v1, axis=0)\n",
    "        hj_model= np.sum(prob_h1, axis=0)\n",
    "        \n",
    "        # set momentum as per Hinton's practical guide to training RBMs\n",
    "        m = 0.5 if epoch > 5 else 0.9\n",
    "        \n",
    "        self.w_inc = self.w_inc*m + (eta/mini_batch_size)*(vihj_data - vihj_model)\n",
    "        self.a_inc = self.a_inc*m + (eta/mini_batch_size)*(vi_data - vi_model)\n",
    "        self.b_inc = self.b_inc*m + (eta/mini_batch_size)*(hj_data - hj_model)\n",
    "        \n",
    "        # update the weights and biases\n",
    "        self.weights += self.w_inc\n",
    "        self.a += self.a_inc\n",
    "        self.b += self.b_inc\n",
    "        \n",
    "        err = np.sum((v0-v1)**2)/mini_batch_size\n",
    "        \n",
    "        return err\n",
    "    \n",
    "    def Reconstruct(self, V_data, recon_setps):\n",
    "        # reconstruct the input vector\n",
    "        # sample hidden states from the input vector and then sample visible states from hidden states\n",
    "        # returns a vector of dimensions: 1 x num_visible\n",
    "        \n",
    "        V_rec = np.copy(V_data)\n",
    "        \n",
    "        for i in range(recon_setps):\n",
    "            z = np.dot(V_rec, self.weights) + self.b\n",
    "            prob_h = self.sigmoid(z)\n",
    "            h = prob_h > np.random.rand(1, self.num_hidden)\n",
    "            \n",
    "            z_v1 = np.dot(h, self.weights.T) + self.a\n",
    "            \n",
    "            V_rec = self.sigmoid(z_v1)\n",
    "            \n",
    "        return V_rec\n",
    "    \n",
    "    # the sigmoid function\n",
    "    def sigmoid(self, z):\n",
    "        sig =  1.0/(1.0 + np.exp(-z))\n",
    "        return sig"
   ]
  },
  {
   "cell_type": "markdown",
   "id": "fddaedc3",
   "metadata": {},
   "source": [
    "At last, we are ready to train the RBM."
   ]
  },
  {
   "cell_type": "code",
   "execution_count": 6,
   "id": "45d28d4e",
   "metadata": {},
   "outputs": [
    {
     "name": "stdout",
     "output_type": "stream",
     "text": [
      "Epoch 1 completed. Reconstruction error is 239981.06\n",
      "Epoch 2 completed. Reconstruction error is 179124.30\n",
      "Epoch 3 completed. Reconstruction error is 170326.69\n",
      "Epoch 4 completed. Reconstruction error is 166201.01\n",
      "Epoch 5 completed. Reconstruction error is 163907.54\n",
      "Epoch 6 completed. Reconstruction error is 162248.15\n",
      "Epoch 7 completed. Reconstruction error is 151429.74\n",
      "Epoch 8 completed. Reconstruction error is 150269.58\n",
      "Epoch 9 completed. Reconstruction error is 149858.14\n",
      "Epoch 10 completed. Reconstruction error is 149553.71\n",
      "Epoch 11 completed. Reconstruction error is 149224.29\n",
      "Epoch 12 completed. Reconstruction error is 148940.65\n",
      "Epoch 13 completed. Reconstruction error is 148655.50\n",
      "Epoch 14 completed. Reconstruction error is 148414.27\n",
      "Epoch 15 completed. Reconstruction error is 148191.17\n",
      "Epoch 16 completed. Reconstruction error is 148000.60\n",
      "Epoch 17 completed. Reconstruction error is 147833.26\n",
      "Epoch 18 completed. Reconstruction error is 147624.79\n",
      "Epoch 19 completed. Reconstruction error is 147429.38\n",
      "Epoch 20 completed. Reconstruction error is 147299.17\n",
      "Epoch 21 completed. Reconstruction error is 147141.86\n",
      "Epoch 22 completed. Reconstruction error is 146991.97\n",
      "Epoch 23 completed. Reconstruction error is 146744.90\n",
      "Epoch 24 completed. Reconstruction error is 146611.00\n",
      "Epoch 25 completed. Reconstruction error is 146457.80\n",
      "Epoch 26 completed. Reconstruction error is 146285.65\n",
      "Epoch 27 completed. Reconstruction error is 146107.67\n",
      "Epoch 28 completed. Reconstruction error is 145977.03\n",
      "Epoch 29 completed. Reconstruction error is 145828.33\n",
      "Epoch 30 completed. Reconstruction error is 145714.86\n",
      "Epoch 31 completed. Reconstruction error is 145636.91\n",
      "Epoch 32 completed. Reconstruction error is 145503.53\n",
      "Epoch 33 completed. Reconstruction error is 145390.73\n",
      "Epoch 34 completed. Reconstruction error is 145277.90\n",
      "Epoch 35 completed. Reconstruction error is 145106.94\n",
      "Epoch 36 completed. Reconstruction error is 145090.21\n",
      "Epoch 37 completed. Reconstruction error is 144884.91\n",
      "Epoch 38 completed. Reconstruction error is 144814.46\n",
      "Epoch 39 completed. Reconstruction error is 144696.82\n",
      "Epoch 40 completed. Reconstruction error is 144582.41\n",
      "Epoch 41 completed. Reconstruction error is 144484.22\n",
      "Epoch 42 completed. Reconstruction error is 144391.61\n",
      "Epoch 43 completed. Reconstruction error is 144253.44\n",
      "Epoch 44 completed. Reconstruction error is 144188.30\n",
      "Epoch 45 completed. Reconstruction error is 144096.86\n",
      "Epoch 46 completed. Reconstruction error is 144062.81\n",
      "Epoch 47 completed. Reconstruction error is 143863.64\n",
      "Epoch 48 completed. Reconstruction error is 143851.27\n",
      "Epoch 49 completed. Reconstruction error is 143766.49\n",
      "Epoch 50 completed. Reconstruction error is 143645.56\n",
      "\n",
      "Training completed. Average reconstruction error is 2.39\n",
      "Training time for 50 epochs, 200 hidden units and learning rate of 0.01 :--- 1462.063550233841 seconds ---\n"
     ]
    }
   ],
   "source": [
    "rbm = RBM(num_visible, num_hidden)\n",
    "\n",
    "start_time = time.time()\n",
    "rbm.train_RBM(training_data, epochs, batch_size, eta)\n",
    "exec_time = time.time() - start_time\n",
    "print(f\"Training time for {epochs} epochs, {num_hidden} hidden units and learning rate of {eta} :--- {exec_time} seconds ---\")"
   ]
  },
  {
   "cell_type": "markdown",
   "id": "b801a5eb",
   "metadata": {},
   "source": [
    "We should note here that reconstruction error is not representative, but we want to keep track on the training process in terms of convergence. In summary, to count the error and track the training process of an RBM that uses the Contrastive Divergence algorithm, we need to compute the reconstruction error of the model after each training iteration and monitor the trend of the error over time."
   ]
  },
  {
   "cell_type": "markdown",
   "id": "b4dbd158",
   "metadata": {},
   "source": [
    "### Generate synthetic data with the RBM\n",
    "\n",
    "Now, we will use the RBM to generate synthetic data given samples from the test dataset."
   ]
  },
  {
   "cell_type": "code",
   "execution_count": 27,
   "id": "924c168c",
   "metadata": {},
   "outputs": [
    {
     "data": {
      "image/png": "[encoded data removed]",
      "text/plain": [
       "<Figure size 1000x1000 with 3 Axes>"
      ]
     },
     "metadata": {},
     "output_type": "display_data"
    }
   ],
   "source": [
    "# choose 3 random samples from test dataset\n",
    "sample_1 = test_data[np.random.randint(0, len(test_data)-1)]\n",
    "sample_2 = test_data[np.random.randint(0, len(test_data)-1)]\n",
    "sample_3 = test_data[np.random.randint(0, len(test_data)-1)]\n",
    "# reshape\n",
    "im_1 = np.reshape(sample_1, (28, 28))\n",
    "im_2 = np.reshape(sample_2, (28, 28))\n",
    "im_3 = np.reshape(sample_3, (28, 28))\n",
    "# display\n",
    "fig, ax = plt.subplots(1, 3, figsize=(10,10))\n",
    "ax[0].imshow(im_1, cmap='gray')\n",
    "ax[1].imshow(im_2, cmap='gray')\n",
    "ax[2].imshow(im_3, cmap='gray')\n",
    "plt.show()"
   ]
  },
  {
   "cell_type": "code",
   "execution_count": 28,
   "id": "73fd04fb",
   "metadata": {},
   "outputs": [
    {
     "data": {
      "image/png": "[encoded data removed]",
      "text/plain": [
       "<Figure size 1000x1000 with 3 Axes>"
      ]
     },
     "metadata": {},
     "output_type": "display_data"
    }
   ],
   "source": [
    "# reconstruct the images with the RBM\n",
    "rbm_sample_1 = rbm.Reconstruct(sample_1, 10)\n",
    "rbm_sample_2 = rbm.Reconstruct(sample_2, 10)\n",
    "rbm_sample_3 = rbm.Reconstruct(sample_3, 10)\n",
    "\n",
    "# reshape and display\n",
    "rbm_im_1 = np.reshape(rbm_sample_1, (28, 28))\n",
    "rbm_im_2 = np.reshape(rbm_sample_2, (28, 28))\n",
    "rbm_im_3 = np.reshape(rbm_sample_3, (28, 28))\n",
    "fig, ax = plt.subplots(1, 3, figsize=(10,10))\n",
    "ax[0].imshow(rbm_im_1, cmap='gray')\n",
    "ax[1].imshow(rbm_im_2, cmap='gray')\n",
    "ax[2].imshow(rbm_im_3, cmap='gray')\n",
    "plt.show()"
   ]
  },
  {
   "cell_type": "markdown",
   "id": "b3f88a59",
   "metadata": {},
   "source": [
    "One advantage of using RBMs for synthetic data generation is that they can learn a compressed representation of the input data, which can help to reduce the dimensionality of the data and remove noisy or irrelevant features. This can be particularly useful for applications such as image generation, where the high-dimensional nature of the input data can make it difficult to generate high-quality synthetic images. However, it is important to keep in mind that RBMs are just one of many possible approaches for synthetic data generation and their effectiveness will depend on the specific characteristics of the input data and the requirements of the application. It may be useful to experiment with different generative models and techniques to find the best approach for some particular use case."
   ]
  },
  {
   "cell_type": "markdown",
   "id": "3d29b711",
   "metadata": {},
   "source": [
    "### Differences between MNIST and Fashion-MNIST\n",
    "\n",
    "One key difference between MNIST and Fashion-MNIST is the complexity of the classification task. While MNIST consists of simple, uniform images of handwritten digits, Fashion-MNIST includes more diverse and complex images of clothing and accessories, with variations in texture, shape, and style. This makes the task of classifying the images in Fashion-MNIST more challenging than the task in MNIST.\n",
    "\n",
    "Another difference between the two datasets is their relevance to real-world applications. MNIST has been used for decades as a standard benchmark for image classification tasks, but its practical applications are limited. Fashion-MNIST, on the other hand, was designed to be a more realistic and challenging dataset that better reflects the types of images encountered in real-world computer vision applications, such as e-commerce and fashion recommendation systems."
   ]
  },
  {
   "cell_type": "code",
   "execution_count": null,
   "id": "c45071c8",
   "metadata": {},
   "outputs": [],
   "source": []
  }
 ],
 "metadata": {
  "kernelspec": {
   "display_name": "ml_venv",
   "language": "python",
   "name": "ml_venv"
  },
  "language_info": {
   "codemirror_mode": {
    "name": "ipython",
    "version": 3
   },
   "file_extension": ".py",
   "mimetype": "text/x-python",
   "name": "python",
   "nbconvert_exporter": "python",
   "pygments_lexer": "ipython3",
   "version": "3.10.6"
  }
 },
 "nbformat": 4,
 "nbformat_minor": 5
}
