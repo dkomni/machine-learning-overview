{
 "cells": [
  {
   "cell_type": "markdown",
   "id": "a323a258",
   "metadata": {},
   "source": [
    "# Generative Adversarial Networks (GANs)\n",
    "\n",
    "A generative adversarial network (GAN) is a machine learning framework consisting of two ANNs that compete with each other in a zero-sum game. These two sub-networks are commonly seen as the *generator (G)* and the *discriminator (D)* respectively.\n",
    "\n",
    "<img src=\"./images/gan.png\" width=\"60%\" align=\"center\">\n",
    "\n",
    "In this notebook, we will explore a simple GAN architecture that learns to generate synthetic handwritten digits based on the MNIST dataset."
   ]
  },
  {
   "cell_type": "markdown",
   "id": "e766a56a",
   "metadata": {},
   "source": [
    "## A High-Level Overview\n",
    "\n",
    "Generative adversarial networks are so named because they consist of two components, the generator and the discriminator, that are pitted against each other in a competitive training process. The generator is tasked with generating realistic samples, while the discriminator is trained to distinguish between real and fake samples. As training progresses, the generator improves its ability to create samples that can fool the discriminator, while the discriminator becomes better at identifying generated samples.\n",
    "\n",
    "When *D* successfully identifies real and fake samples, it is rewarded (or no change is needed to its model parameters) while *G* is penalized with large updates to its corresponding parameters. Similarly, when *G* fools *D*, it is rewarded (or no change is needed to its parameters), but *D* is penalized and its model parameters are updated. In the idealized case, *G* generates perfect replicas from the input domain and *D* cannot tell the difference between real and synthetic data, so its prediction is totally random (50%).\n",
    "\n",
    "### The Discriminator Network (D)\n",
    "\n",
    "The discriminator is fed with either real samples from the training dataset or generated samples provided by the generator. Its role is to estimate the probability that the input belongs to the real dataset. The training is performed so that the discriminator outputs '1' when a real sample is given and '0' when a generated sample is fed to its input. For this purpose, we will use a common feed-forward neural network that is trained with the backpropagation algorithm and the *binary cross-entropy* as the cost function. The binary cross-entropy is defined as\n",
    "\n",
    "$$ C(y,\\hat{y} ; \\theta) = \\frac{1}{B} \\sum_{i=1}^B \\left ( -y^{(i)}\\ln(\\hat{y}^{(i)}) - (1-y^{(i)})\\ln(1-\\hat{y}^{(i)}) \\right) $$\n",
    "\n",
    "where $y^{(i)}$ is the target label of the $i$-th sample, $\\hat{y}^{(i)}$ is the network output for the $i$-th sample with parameters $\\theta$ (weights and biases) and $B$ is the number of samples in a batch.\n",
    "\n",
    "It is convenient to use the cross-entropy function for binary classification when the network output corresponds to a probability.\n",
    "\n",
    "### The Generator Network (G)\n",
    "\n",
    "The generator component is supplied with a set of randomly generated data points from a latent space. Its primary objective is to produce synthetic data samples that closely resemble the actual samples found in the dataset. To achieve this, the generator learns to capture the underlying patterns and features of the real data, which it then uses to generate convincing new samples. For this purpose, we will also use a feed-forward neural network with various activation functions.\n",
    "\n",
    "### Training Process\n",
    "\n",
    "Generative adversarial networks employ a unique training process that involves a two-player *minimax* game. During training, the discriminator component is optimized to accurately distinguish between real and generated samples, while the generator component is optimized to create synthetic samples that closely resemble the real ones. This process results in a competition between the two components, where the generator aims to produce samples that can fool the discriminator, while the discriminator tries to correctly identify whether a given sample is real or fake. Ultimately, the goal is to train the generator to maximize the probability that the discriminator makes a mistake when trying to differentiate between real and synthetic samples.\n",
    "\n",
    "\n",
    "The training process involves updating the parameters of the discriminator and generator components in an iterative manner. During each training step, a batch of labeled real and generated samples is fed into the model and the parameters of the discriminator are updated to minimize a loss function that measures its ability to discriminate between real and synthetic samples. Once the discriminator has been updated, the generator is trained to produce more realistic samples by maximizing the probability that the discriminator makes a mistake when classifying generated data as real or fake. During this step, the output of the generator is connected to the discriminator which is kept constant while the generator is updated. By repeating this process over multiple training iterations, the model is able to learn the underlying patterns in the data and generate highly convincing synthetic samples."
   ]
  },
  {
   "cell_type": "markdown",
   "id": "53e8a105",
   "metadata": {},
   "source": [
    "## Implementation\n",
    "\n",
    "For the purpose of this GAN, we will use the *MNIST* dataset of handwritten digits."
   ]
  },
  {
   "cell_type": "markdown",
   "id": "aa00971c",
   "metadata": {},
   "source": [
    "First, let us import the necessary frameworks and load the MNIST dataset and normalize it. We choose to normalize the pixel values in the interval [-1,1] because of the greyscale nature of the samples. By normalizing in this interval, most '0' values are eliminated and thus, we reduce the computational workload."
   ]
  },
  {
   "cell_type": "code",
   "execution_count": 1,
   "id": "c8e2d82a",
   "metadata": {},
   "outputs": [
    {
     "name": "stdout",
     "output_type": "stream",
     "text": [
      "Training data shape: (60000, 28, 28) (60000,)\n",
      "Testing data shape: (10000, 28, 28) (10000,)\n"
     ]
    }
   ],
   "source": [
    "# hide tensorflow warnings on GPU execution (we will use CPU)\n",
    "from silence_tensorflow import silence_tensorflow\n",
    "silence_tensorflow()\n",
    "\n",
    "import tensorflow as tf\n",
    "\n",
    "from matplotlib import pyplot as plt\n",
    "import numpy as np\n",
    "import time\n",
    "import random\n",
    "\n",
    "# Load the Fashion-MNIST dataset\n",
    "(x_train, y_train), (x_test, y_test) = tf.keras.datasets.mnist.load_data()\n",
    "\n",
    "training_data = x_train.astype('float32')/127.5 -1\n",
    "test_data = x_test.astype('float32')/127.5 - 1\n",
    "\n",
    "# Print the shape of the training data\n",
    "print('Training data shape:', training_data.shape, y_train.shape)\n",
    "\n",
    "# Print the shape of the testing data\n",
    "print('Testing data shape:', test_data.shape, y_test.shape)"
   ]
  },
  {
   "cell_type": "code",
   "execution_count": 2,
   "id": "8cf0c087",
   "metadata": {},
   "outputs": [
    {
     "data": {
      "image/png": "[encoded data removed]",
      "text/plain": [
       "<Figure size 1000x1000 with 5 Axes>"
      ]
     },
     "metadata": {},
     "output_type": "display_data"
    }
   ],
   "source": [
    "# Generate random samples of images to display (normalized)\n",
    "num_images = 5\n",
    "rand_idx = np.random.randint(training_data.shape[0], size=num_images)\n",
    "\n",
    "# Display the images and their labels\n",
    "fig, axes = plt.subplots(1, num_images, figsize=(10,10))\n",
    "for i, ax in enumerate(axes):\n",
    "    ax.imshow(training_data[rand_idx[i]], cmap='gray')\n",
    "    ax.axis('off')\n",
    "\n",
    "plt.show()"
   ]
  },
  {
   "cell_type": "markdown",
   "id": "3161de3c",
   "metadata": {},
   "source": [
    "Now, let us define the **discriminator** using tensorflow. The output neuron uses the sigmoid activation because we want to represent a probability that the sample is either fake (probability to 0) or real (probability to 1). Also, we use the binary cross-entropy function along with Adam optimizer.\n",
    "\n",
    "#### Notes on RELU activation\n",
    "\n",
    "The *rectified linear unit (ReLU)* activation function is commonly used in the hidden layers of neural networks due to its several advantages over other activation functions. Here we outline some reasons for this:\n",
    "\n",
    " - Computationally Efficient: The ReLU function is efficient to compute compared to other activation functions such as the sigmoid or hyperbolic tangent functions. This is because it involves simple thresholding operations, whereas the sigmoid function requires more complex exponential calculations.\n",
    " - Avoids Vanishing Gradient Problem: The ReLU function can help to alleviate the vanishing gradient problem, which is a common issue in deep neural networks where the gradients become very small as they propagate through many layers. The ReLU function's derivative is either 1 or 0, which means that it does not saturate for positive inputs and this makes it more resistant to the vanishing gradient problem.\n",
    " - Sparse Activation: The ReLU function results in sparse activations, meaning that only a small subset of the neurons in a layer will be activated for a given input. This can lead to more efficient use of computation resources and can also help to prevent overfitting by reducing the interdependence of the neurons in a layer.\n",
    " - Better for Deep Networks: As neural networks get deeper, the ReLU function becomes more advantageous. Deep neural networks have a higher chance of experiencing the vanishing gradient problem and using ReLU can alleviate this problem while maintaining a good level of performance."
   ]
  },
  {
   "cell_type": "markdown",
   "id": "cb40e1b9",
   "metadata": {},
   "source": [
    "First, define the **discriminator** network that classifies samples as 'real' with '1' and 'fake' with '0'."
   ]
  },
  {
   "cell_type": "code",
   "execution_count": 3,
   "id": "e1195b13",
   "metadata": {},
   "outputs": [],
   "source": [
    "# Define the discriminator network\n",
    "def build_discriminator():\n",
    "    model = tf.keras.Sequential([\n",
    "        tf.keras.layers.Flatten(input_shape=(28, 28)),\n",
    "        tf.keras.layers.Dense(512, activation='relu'),\n",
    "        tf.keras.layers.Dropout(0.3),\n",
    "        tf.keras.layers.Dense(256, activation='relu'),\n",
    "        tf.keras.layers.Dropout(0.3),\n",
    "        tf.keras.layers.Dense(128, activation='relu'),\n",
    "        tf.keras.layers.Dropout(0.3),\n",
    "        tf.keras.layers.Dense(1, activation='sigmoid')\n",
    "    ])\n",
    "    opt = tf.keras.optimizers.Adam(learning_rate=0.0001, beta_1=0.5) \n",
    "    model.compile(loss='binary_crossentropy', optimizer=opt, metrics=['accuracy'])\n",
    "    return model"
   ]
  },
  {
   "cell_type": "markdown",
   "id": "db82e4c9",
   "metadata": {},
   "source": [
    "Also, define the **generator**. The generator maps a random input of $\\textit{latent_dim}$ features to an output of 784 features, which are the pixels (28x28) of a MNIST image. We use the *hyperbolic tangent function* in the output layer because we want the values to be in the range [-1, 1], as the output of the generator is also the input to the discriminator."
   ]
  },
  {
   "cell_type": "code",
   "execution_count": 4,
   "id": "faf2d768",
   "metadata": {},
   "outputs": [],
   "source": [
    "# Define the generator network\n",
    "def build_generator(latent_dim):\n",
    "    model = tf.keras.Sequential([\n",
    "        tf.keras.layers.Dense(128, input_dim=latent_dim, activation='relu'),\n",
    "        tf.keras.layers.Dense(256, activation='relu'),\n",
    "        tf.keras.layers.Dense(512, activation='relu'),\n",
    "        tf.keras.layers.Dense(784, activation='tanh'),\n",
    "        tf.keras.layers.Reshape((28, 28))\n",
    "    ])\n",
    "    return model"
   ]
  },
  {
   "cell_type": "markdown",
   "id": "9bf42989",
   "metadata": {},
   "source": [
    "First, we need a function that generates $n$ latent points of $dim$ dimensions."
   ]
  },
  {
   "cell_type": "code",
   "execution_count": 5,
   "id": "a1e84b0e",
   "metadata": {},
   "outputs": [],
   "source": [
    "def generate_latent_points(n, dim):\n",
    "    latent_points = np.random.randn(n * dim)  \n",
    "    z_input = latent_points.reshape(n, dim)\n",
    "    return z_input"
   ]
  },
  {
   "cell_type": "markdown",
   "id": "fab3b297",
   "metadata": {},
   "source": [
    "The generator is used to generate $n$ fake data samples of $dim$ dimensions by feeding it with random noise. We label fake data with '0'."
   ]
  },
  {
   "cell_type": "code",
   "execution_count": 6,
   "id": "6929545c",
   "metadata": {},
   "outputs": [],
   "source": [
    "def generate_fake_samples(generator, n, dim):\n",
    "    latent_points = generate_latent_points(n, dim)\n",
    "    fake_samples = generator.predict(latent_points, verbose=0)\n",
    "    return fake_samples"
   ]
  },
  {
   "cell_type": "markdown",
   "id": "d931513c",
   "metadata": {},
   "source": [
    "Also, we define a helper function that partitions the dataset in batches of $\\textit{BATCH_SIZE}$."
   ]
  },
  {
   "cell_type": "code",
   "execution_count": 7,
   "id": "3e1e081e",
   "metadata": {},
   "outputs": [],
   "source": [
    "def part_batches(data, BATCH_SIZE):\n",
    "    batches = [data[i:i+BATCH_SIZE] for i in range(0, len(data), BATCH_SIZE)]\n",
    "    return batches"
   ]
  },
  {
   "cell_type": "markdown",
   "id": "29d812bd",
   "metadata": {},
   "source": [
    "Last, define the hyperparameters and the **GAN** model:"
   ]
  },
  {
   "cell_type": "code",
   "execution_count": 8,
   "id": "81d8269a",
   "metadata": {},
   "outputs": [],
   "source": [
    "# define the hyperparameters\n",
    "EPOCHS = 50\n",
    "BATCH_SIZE = 60\n",
    "latent_dim = 100\n",
    "\n",
    "# define the generator and discriminator models\n",
    "generator = build_generator(latent_dim)\n",
    "discriminator = build_discriminator()\n",
    "\n",
    "# define the input for the generator\n",
    "gen_input = tf.keras.layers.Input(shape=(latent_dim,))\n",
    "\n",
    "# define the generated image using the generator model\n",
    "gen_img = generator(gen_input)\n",
    "\n",
    "# define the discriminator model to be trained with real and fake images\n",
    "discriminator.trainable = False\n",
    "discriminator_output = discriminator(gen_img)\n",
    "\n",
    "# define the GAN model\n",
    "gan = tf.keras.models.Model(inputs=gen_input, outputs=discriminator_output)\n",
    "opt = tf.keras.optimizers.Adam(learning_rate=0.0001, beta_1=0.5) \n",
    "gan.compile(loss='binary_crossentropy', optimizer=opt)"
   ]
  },
  {
   "cell_type": "markdown",
   "id": "463b173e",
   "metadata": {},
   "source": [
    "Now, we can move on training the GAN:"
   ]
  },
  {
   "cell_type": "code",
   "execution_count": 9,
   "id": "550a184e",
   "metadata": {},
   "outputs": [
    {
     "name": "stdout",
     "output_type": "stream",
     "text": [
      "Initiating GAN training...\n",
      "\n",
      "Epoch 1: D loss=0.2389, G loss=2.5746\n",
      "Epoch 2: D loss=0.3209, G loss=2.5569\n",
      "Epoch 3: D loss=0.1515, G loss=3.2805\n",
      "Epoch 4: D loss=0.3251, G loss=3.1813\n",
      "Epoch 5: D loss=0.2776, G loss=3.0728\n",
      "Epoch 6: D loss=0.3395, G loss=1.8268\n",
      "Epoch 7: D loss=0.3265, G loss=1.9702\n",
      "Epoch 8: D loss=0.4752, G loss=1.6734\n",
      "Epoch 9: D loss=0.4162, G loss=1.5637\n",
      "Epoch 10: D loss=0.4297, G loss=1.6166\n",
      "Epoch 11: D loss=0.5099, G loss=1.5023\n",
      "Epoch 12: D loss=0.4373, G loss=1.3850\n",
      "Epoch 13: D loss=0.4760, G loss=1.3427\n",
      "Epoch 14: D loss=0.4456, G loss=1.4459\n",
      "Epoch 15: D loss=0.4200, G loss=1.5235\n",
      "Epoch 16: D loss=0.4836, G loss=1.2807\n",
      "Epoch 17: D loss=0.4630, G loss=1.3561\n",
      "Epoch 18: D loss=0.5291, G loss=1.3524\n",
      "Epoch 19: D loss=0.4977, G loss=1.1860\n",
      "Epoch 20: D loss=0.4656, G loss=1.0554\n",
      "Epoch 21: D loss=0.4678, G loss=1.0938\n",
      "Epoch 22: D loss=0.4854, G loss=1.3887\n",
      "Epoch 23: D loss=0.5289, G loss=1.1540\n",
      "Epoch 24: D loss=0.4772, G loss=1.2355\n",
      "Epoch 25: D loss=0.4993, G loss=1.1183\n",
      "Epoch 26: D loss=0.4811, G loss=1.1418\n",
      "Epoch 27: D loss=0.4999, G loss=1.1145\n",
      "Epoch 28: D loss=0.5375, G loss=1.0817\n",
      "Epoch 29: D loss=0.4351, G loss=1.1778\n",
      "Epoch 30: D loss=0.5470, G loss=1.2230\n",
      "Epoch 31: D loss=0.4486, G loss=1.1960\n",
      "Epoch 32: D loss=0.5910, G loss=1.0426\n",
      "Epoch 33: D loss=0.5548, G loss=1.1948\n",
      "Epoch 34: D loss=0.5422, G loss=1.1285\n",
      "Epoch 35: D loss=0.5231, G loss=1.1269\n",
      "Epoch 36: D loss=0.5142, G loss=1.0629\n",
      "Epoch 37: D loss=0.5813, G loss=1.0655\n",
      "Epoch 38: D loss=0.4901, G loss=1.1435\n",
      "Epoch 39: D loss=0.4746, G loss=1.2075\n",
      "Epoch 40: D loss=0.5517, G loss=1.1999\n",
      "Epoch 41: D loss=0.4630, G loss=1.0650\n",
      "Epoch 42: D loss=0.5387, G loss=1.2860\n",
      "Epoch 43: D loss=0.5282, G loss=1.0688\n",
      "Epoch 44: D loss=0.5593, G loss=0.9704\n",
      "Epoch 45: D loss=0.6110, G loss=1.2305\n",
      "Epoch 46: D loss=0.5474, G loss=1.1536\n",
      "Epoch 47: D loss=0.5212, G loss=1.1367\n",
      "Epoch 48: D loss=0.5283, G loss=1.2394\n",
      "Epoch 49: D loss=0.5631, G loss=1.1352\n",
      "Epoch 50: D loss=0.5111, G loss=1.0737\n",
      "\n",
      " GAN training completed. Training time: --- 5730.59 seconds ---\n"
     ]
    }
   ],
   "source": [
    "start_time = time.time()\n",
    "print('Initiating GAN training...\\n')\n",
    "# define the training loop and train the GAN model\n",
    "for epoch in range(EPOCHS):\n",
    "    # shuffle the training set\n",
    "    np.random.shuffle(training_data)\n",
    "    for batch in part_batches(training_data, BATCH_SIZE):\n",
    "        # generate fake samples using the generator\n",
    "        fake_samples = generate_fake_samples(generator, BATCH_SIZE, latent_dim)\n",
    "        # combine fake and real samples in a single batch of size [2xBATCH_SIZE]\n",
    "        d_samples = np.concatenate([fake_samples, batch])\n",
    "        # also, combine fake and real labels\n",
    "        y_fake = np.zeros((BATCH_SIZE, 1))\n",
    "        y_real = np.ones((BATCH_SIZE, 1))\n",
    "        d_labels = np.concatenate([y_fake, y_real])\n",
    "        \n",
    "        # train the discriminator on the real and fake samples\n",
    "        d_loss, _ = discriminator.train_on_batch(d_samples, d_labels)\n",
    "        \n",
    "        # generate new fake samples using the generator\n",
    "        latent_points = generate_latent_points(BATCH_SIZE, latent_dim)\n",
    "        labels = np.ones((BATCH_SIZE, 1))\n",
    "\n",
    "        # train the generator to fool the discriminator\n",
    "        g_loss = gan.train_on_batch(latent_points, labels)\n",
    "\n",
    "    # print the losses and accuracies\n",
    "    print(f\"Epoch {epoch+1}: D loss={d_loss:.4f}, G loss={g_loss:.4f}\")\n",
    "exec_time = time.time() - start_time\n",
    "print(f'\\n GAN training completed. Training time: --- {exec_time:.02f} seconds ---')"
   ]
  },
  {
   "cell_type": "markdown",
   "id": "bdfe96ae",
   "metadata": {},
   "source": [
    "Plot some synthetic digits:"
   ]
  },
  {
   "cell_type": "code",
   "execution_count": 10,
   "id": "e22eb6b1",
   "metadata": {},
   "outputs": [
    {
     "name": "stdout",
     "output_type": "stream",
     "text": [
      "1/1 [==============================] - 2s 2s/step\n"
     ]
    },
    {
     "data": {
      "image/png": "[encoded data removed]",
      "text/plain": [
       "<Figure size 800x800 with 16 Axes>"
      ]
     },
     "metadata": {},
     "output_type": "display_data"
    }
   ],
   "source": [
    "import matplotlib.pyplot as plt\n",
    "\n",
    "# Generate 16 synthetic samples using the generator\n",
    "latent_points = generate_latent_points(16, latent_dim)\n",
    "synthetic_samples = generator.predict(latent_points)\n",
    "\n",
    "# Create a 4x4 subplot\n",
    "fig, axes = plt.subplots(nrows=4, ncols=4, figsize=(8, 8))\n",
    "\n",
    "# Plot the generated images on the subplot\n",
    "for i, ax in enumerate(axes.flat):\n",
    "    ax.imshow(synthetic_samples[i], cmap='gray')\n",
    "    ax.axis('off')\n",
    "    \n",
    "# Show the plot\n",
    "plt.show()"
   ]
  },
  {
   "cell_type": "code",
   "execution_count": null,
   "id": "ef7e6630",
   "metadata": {},
   "outputs": [],
   "source": []
  }
 ],
 "metadata": {
  "kernelspec": {
   "display_name": "ml_venv",
   "language": "python",
   "name": "ml_venv"
  },
  "language_info": {
   "codemirror_mode": {
    "name": "ipython",
    "version": 3
   },
   "file_extension": ".py",
   "mimetype": "text/x-python",
   "name": "python",
   "nbconvert_exporter": "python",
   "pygments_lexer": "ipython3",
   "version": "3.10.6"
  }
 },
 "nbformat": 4,
 "nbformat_minor": 5
}
